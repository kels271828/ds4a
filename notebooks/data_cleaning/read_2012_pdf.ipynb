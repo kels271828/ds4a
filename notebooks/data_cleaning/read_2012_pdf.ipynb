{
 "cells": [
  {
   "cell_type": "markdown",
   "id": "b470aa3b",
   "metadata": {},
   "source": [
    "# Convert 2012-2015 PRAMS pdf to csv"
   ]
  },
  {
   "cell_type": "code",
   "execution_count": null,
   "id": "13782c48",
   "metadata": {},
   "outputs": [],
   "source": [
    "import os\n",
    "import warnings\n",
    "\n",
    "import camelot\n",
    "import numpy as np\n",
    "import pandas as pd\n",
    "\n",
    "warnings.filterwarnings(\"ignore\")"
   ]
  },
  {
   "cell_type": "code",
   "execution_count": null,
   "id": "3fdb0847",
   "metadata": {},
   "outputs": [],
   "source": [
    "def pdf_to_df(filename):\n",
    "    df = pd.DataFrame(data = {})\n",
    "    data = camelot.read_pdf(filename, flavor='stream', pages='all', strip_text='\\n§#¶¥*†‡◊‖±^')\n",
    "    year_dict = get_year_dict(data)\n",
    "    for ii in range(2):  # assuming only two pages\n",
    "        table = data[ii]\n",
    "        data_dict = get_data_dict(table.df, year_dict[ii])\n",
    "        df = pd.concat([df, pd.DataFrame(data_dict)])\n",
    "    return df\n",
    "\n",
    "def get_data_dict(df, year_dict):\n",
    "    data = {\n",
    "        'Category': [],\n",
    "        'Indicator': [],\n",
    "        'Year': [],\n",
    "        'SampleSize': [],\n",
    "        'Prevalence': [],\n",
    "        'CI': []\n",
    "    }\n",
    "    for ii in range(len(df)):\n",
    "        if is_category(ii, df):\n",
    "            category = df.iloc[ii, 0]\n",
    "        if is_indicator(ii, df):\n",
    "            indicator = df.iloc[ii, 0][2:]\n",
    "            add_row(ii, df, data, category, indicator, year_dict)    \n",
    "    return data\n",
    "\n",
    "def add_row(ii, df, data, category, indicator, year_dict, sub_indicator=np.nan):\n",
    "    if is_indicator(ii, df):\n",
    "        for year in year_dict:\n",
    "            stats = df.iloc[ii, year_dict[year]]\n",
    "            if stats != '':  # only append years with data\n",
    "                data['Category'].append(category)\n",
    "                data['Indicator'].append(indicator)\n",
    "                data['Year'].append(year)\n",
    "                data['SampleSize'].append(df.iloc[ii, year_dict[year] - 1])\n",
    "                data['Prevalence'].append(stats.split()[0])\n",
    "                data['CI'].append(stats.split()[1])\n",
    "    else:\n",
    "        raise ValueError(f\"Row {ii} does not contain data.\")\n",
    "\n",
    "def is_category(ii, df):\n",
    "    if ii >= len(df) - 1:\n",
    "        return False\n",
    "    return df.iloc[ii, 0] != '' and df.iloc[ii, 0][0] != '-' and is_indicator(ii + 1, df)\n",
    "\n",
    "def get_year_dict(data):\n",
    "    year_dict = [{'2012': 2, '2013': 4, '2014': 6, '2015': 8}, {}]\n",
    "    year_idx = 2\n",
    "    for year in year_dict[0]:\n",
    "        if data[0].df.iloc[6, year_dict[0][year]] != '':\n",
    "            year_dict[1][year] = year_idx\n",
    "            year_idx += 2\n",
    "    return year_dict\n",
    "\n",
    "def is_indicator(ii, df):\n",
    "    return df.iloc[ii, 0] != '' and df.iloc[ii, 0][0] == '-'\n",
    "\n",
    "def get_name(filename):\n",
    "    name = ''\n",
    "    for word in filename.split('-')[:-2]:\n",
    "        name += word.capitalize()\n",
    "    return name"
   ]
  },
  {
   "cell_type": "code",
   "execution_count": null,
   "id": "df726c1d",
   "metadata": {},
   "outputs": [],
   "source": [
    "df = pd.DataFrame()\n",
    "filenames = os.listdir('../data/PRAMS/pdf/')\n",
    "for filename in filenames:\n",
    "    if ('2012' in filename) and ('All' not in filename):\n",
    "        df_state = pdf_to_df('../data/PRAMS/pdf/' + filename)\n",
    "        state_name = get_name(filename)\n",
    "        df_state['State'] = state_name\n",
    "        df = pd.concat([df, df_state])\n",
    "        print(f\"State: {state_name}, Rows: {len(df_state)}\")\n",
    "df.to_csv('../data/PRAMS/csv/PRAMS_2012_2015.csv', index=False)"
   ]
  }
 ],
 "metadata": {
  "kernelspec": {
   "display_name": "Python 3 (ipykernel)",
   "language": "python",
   "name": "python3"
  },
  "language_info": {
   "codemirror_mode": {
    "name": "ipython",
    "version": 3
   },
   "file_extension": ".py",
   "mimetype": "text/x-python",
   "name": "python",
   "nbconvert_exporter": "python",
   "pygments_lexer": "ipython3",
   "version": "3.9.7"
  }
 },
 "nbformat": 4,
 "nbformat_minor": 5
}
