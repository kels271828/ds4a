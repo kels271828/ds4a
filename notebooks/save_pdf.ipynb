{
 "cells": [
  {
   "cell_type": "markdown",
   "id": "f91319e2",
   "metadata": {},
   "source": [
    "# Save PRAMS pdf from website\n",
    "\n",
    "Tutorial: https://www.geeksforgeeks.org/downloading-pdfs-with-python-using-requests-and-beautifulsoup/"
   ]
  },
  {
   "cell_type": "code",
   "execution_count": null,
   "id": "5bd12217",
   "metadata": {},
   "outputs": [],
   "source": [
    "import requests\n",
    "from bs4 import BeautifulSoup"
   ]
  },
  {
   "cell_type": "code",
   "execution_count": null,
   "id": "e0ac2e88",
   "metadata": {},
   "outputs": [],
   "source": [
    "def save_pdfs(url, year):\n",
    "    response = requests.get(url)\n",
    "    soup = BeautifulSoup(response.text, 'html.parser')\n",
    "    links = soup.find_all('a')\n",
    "    for link in links:\n",
    "        href = link.get('href')\n",
    "        if '.pdf' in href:\n",
    "            response = requests.get('https://www.cdc.gov/' + href)\n",
    "            filename = get_filename(href, year)\n",
    "            pdf = open(filename, 'wb')\n",
    "            pdf.write(response.content)\n",
    "            pdf.close()\n",
    "\n",
    "def get_filename(href, year):\n",
    "    if year == 2012:\n",
    "        href = href.split('/')[-1].split('-508')[-2].split('PRAMS-')[-1]\n",
    "        if '2012-2015' not in href:\n",
    "            href += '-2012-2015'\n",
    "    elif year == 2016:\n",
    "        href = href.split('/')[-1].split('_PRAMS')[0] + '-2016-2019'\n",
    "    else:\n",
    "        raise ValueError(f\"Invalid year: {year}.\")\n",
    "    return '../data/PRAMS/pdf/' + href + '.pdf'"
   ]
  },
  {
   "cell_type": "code",
   "execution_count": null,
   "id": "bcce4923",
   "metadata": {},
   "outputs": [],
   "source": [
    "save_pdfs('https://www.cdc.gov/prams/prams-data/2015-mch-indicators.html', 2012)\n",
    "save_pdfs('https://www.cdc.gov/prams/prams-data/2019-selected-mch-indicators.html', 2016)"
   ]
  }
 ],
 "metadata": {
  "kernelspec": {
   "display_name": "Python 3 (ipykernel)",
   "language": "python",
   "name": "python3"
  },
  "language_info": {
   "codemirror_mode": {
    "name": "ipython",
    "version": 3
   },
   "file_extension": ".py",
   "mimetype": "text/x-python",
   "name": "python",
   "nbconvert_exporter": "python",
   "pygments_lexer": "ipython3",
   "version": "3.9.7"
  }
 },
 "nbformat": 4,
 "nbformat_minor": 5
}
