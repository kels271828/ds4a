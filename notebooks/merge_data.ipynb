{
 "cells": [
  {
   "cell_type": "markdown",
   "id": "7a5a8399",
   "metadata": {},
   "source": [
    "# Match-ups with categories and indicators\n",
    "\n",
    "| 2012-2015 | 2016-2019 |\n",
    "|-|-|\n",
    "**Nutrition and Exercise** | **Nutrition**\n",
    "Multivitamin use > 4 days a week during the month before pregnancy | Multivitamin use >=4 times a week during the month before pregnancy\n",
    "Dieting during the 12 months before pregnancy | .\n",
    "Exercising > 3 days a week during the 12 months before pregnancy | .\n",
    "**Pre-pregnancy Weight** | **Pre-pregnancy Weight**\n",
    "Underweight (BMI<18.5) | Underweight (Body Mass Index [BMI]<18.5 kg/m2)\n",
    "Overweight (BMI 25-29.9) | Overweight (BMI 25-29.9 kg/m2)\n",
    "Obese (BMI >30) | Obese (BMI>=30 kg/m2)\n",
    "**Substance Use** | **Substance Use**\n",
    "Any cigarette smoking during the 3 months before pregnancy | Any cigarette smoking -> During the 3 months before pregnancy\n",
    "Any cigarette smoking during the last 3 months of pregnancy | Any cigarette smoking -> During the last 3 months of pregnancy\n",
    "Any cigarette smoking postpartum | Any cigarette smoking -> Postpartum\n",
    ". | Any e-cigarette use -> Any cigarette smoking -> During the 3 months before pregnancy\n",
    ". | Any e-cigarette use > Any cigarette smoking -> During the last 3 months of pregnancy\n",
    ". | Hookah use in the last 2 years\n",
    "Any alcohol use during the 3 months before pregnancy | Heavy drinking (>=8 drinks a week) during the 3 months before pregnancy\n",
    "Any alcohol use during the last 3 months of pregnancy | .\n",
    "**Intimate Partner Violence (IPV)** | **Intimate Partner Violence (IPV)**\n",
    "Experienced IPV during the 12 months before pregnancy | Experienced IPV during the 12 months before pregnancy by a husband or partner and/or an ex-husband or partner\n",
    "Experienced IPV during pregnancy | Experienced IPV during pregnancy by a husband or partner and/or an ex-husband or partner\n",
    "**Depression** | **Depression**\n",
    "Told by a provider had depression before pregnancy | Self-reported depression in the 3 months before pregnancy\n",
    ". | Self-reported depression during pregnancy\n",
    "Self-reported postpartum depressive symptoms | Self-reported postpartum depressive symptoms\n",
    "**Pregnancy Intention and Familiy Planning** | **Pregnancy Intention** and **Postpartum Family Planning**\n",
    "Mistimed/unwanted pregnancy | Mistimed\n",
    ". | Unwanted pregnancy\n",
    "Unsure about pregnancy | Unsure whether wanted pregnancy\n",
    ". | Intended pregnancy\n",
    "Postpartum contraceptive use | Use of any postpartum contraception\n",
    ". | Highly effective contraceptive methods -> Male or female sterilization\n",
    ". | Highly effective contraceptive methods -> Long acting reversible contraceptive method\n",
    ". | Moderately effective contraceptive methods\n",
    ". | Least effective contraceptive methods\n",
    "**Health Care Services** | **Health Care Services**\n",
    "Talked to provider about improving health before pregnancy | Health care visit in the 12 months before pregnancy\n",
    "Began prenatal care in 1st trimester | Began prenatal care in 1st trimester\n",
    "Took childbirth class | .\n",
    "Had home visitor during pregnancy | .\n",
    "Had flu shot before or during pregnancy | Had a flu shot in the 12 months before birth\n",
    "Had maternal postpartum checkup | Had maternal postpartum checkup\n",
    "**Oral Health**\n",
    "Teeth cleaned during 12 months before pregnancy | .\n",
    "Teeth cleaned during pregnancy | Teeth cleaned during pregnancy by a dentist or dental hygienist\n",
    "Had dental insurance during pregnancy | .\n",
    "**Pre-pregnancy Health Insurance Status** | **Heath Insurance Status One Month Before Pregnancy**\n",
    "Private insurance | Private insurance\n",
    "Medicaid | Medicaid\n",
    "No insurance | No insurance\n",
    "**Health Insurance Status During Pregnancy** | **Health Insurance Status for Prenatal Care**\n",
    "Private insurance | Private insurance\n",
    "Medicaid | Medicaid\n",
    "No insurance | No insurance\n",
    "**Health Insurance Status Postpartum** | **Health Insurance Status Postpartum**\n",
    "Private insurance | Private insurance\n",
    "Medicaid | Medicaid\n",
    "No insurance | No insurance\n",
    "**Infant Sleep Practices** | **Infant Sleep Practices**\n",
    "Baby most often laid on back to sleep | Baby most often laid on back to sleep\n",
    "**Breastfeeding Practices** | **Breastfeeding Practices**\n",
    "Ever breastfed | Ever breastfed\n",
    "Any breastfeeding at 8 weeks | Any breastfeeding at 8 weeks"
   ]
  },
  {
   "cell_type": "markdown",
   "id": "ad436fd3",
   "metadata": {},
   "source": [
    "| Category | Indicators |\n",
    "|-|-|\n",
    "Nutrition | Multivitamin use >= 4 days a week during the month before pregnancy\n",
    "Pre-pregnancy Weight | Underweight (BMI<18.5), Overweight (BMI 25-29.9), Obese (BMI >30)\n",
    "Substance Use | Any cigarette smoking during the 3 months before pregnancy, Any cigarette smoking during the last 3 months of pregnancy, Any cigarette smoking postpartum, Any alcohol use during the 3 months before pregnancy\n",
    "Intimate Partner Violence (IPV) | Experienced IPV during the 12 months before pregnancy, Experienced IPV during pregnancy\n",
    "Depression | Self-reported depression in the 3 months before pregnancy, Self-reported depression during pregnancy, Self-reported postpartum depressive symptoms\n",
    "Pregnancy Intention and Familiy Planning | Mistimed/unwanted pregnancy, Unsure about pregnancy, Use of any postpartum contraception\n",
    "Health Care Services | Health care visit in the 12 months before pregnancy, Began prenatal care in 1st trimester, Had flu shot before or during pregnancy, Had maternal postpartum checkup\n",
    "Oral Health | Teeth cleaned during pregnancy\n",
    "Pre-pregnancy Health Insurance Status | Private insurance, Medicaid, No insurance\n",
    "Health Insurance Status During Pregnancy | Private insurance, Medicaid, No insurance\n",
    "Health Insurance Status Postpartum | Private insurance, Medicaid, No insurance\n",
    "Infant Sleep Practices | Baby most often laid on back to sleep\n",
    "Breastfeeding Practices | Ever breastfed, Any breastfeeding at 8 weeks"
   ]
  },
  {
   "cell_type": "code",
   "execution_count": 1,
   "id": "ccbb439e",
   "metadata": {},
   "outputs": [],
   "source": [
    "import numpy as np\n",
    "import matplotlib.pyplot as plt\n",
    "import pandas as pd"
   ]
  },
  {
   "cell_type": "code",
   "execution_count": 2,
   "id": "8f68748c",
   "metadata": {},
   "outputs": [],
   "source": [
    "df_2012 = pd.read_csv('../data/PRAMS/csv/PRAMS_2012_2015.csv')\n",
    "df_2016 = pd.read_csv('../data/PRAMS/csv/PRAMS_2016_2019.csv')"
   ]
  },
  {
   "cell_type": "markdown",
   "id": "b92a77b3",
   "metadata": {},
   "source": [
    "## Categories"
   ]
  },
  {
   "cell_type": "code",
   "execution_count": null,
   "id": "c36f3601",
   "metadata": {},
   "outputs": [],
   "source": [
    "Breastfeeding Practices\n",
    "Depression\n",
    "Health Care Services\n",
    "Health Insurance Status Postpartum\n",
    "Infant Sleep Practices\n",
    "Intimate Partner Violence (IPV)\n",
    "Oral Health\n",
    "Pre-pregnancy Weight\n",
    "Substance Use\n",
    "Health Insurance Status\n",
    "Nutrition\n",
    "Pregnancy Intention\n",
    "Family Planning"
   ]
  },
  {
   "cell_type": "code",
   "execution_count": 3,
   "id": "10244dbd",
   "metadata": {},
   "outputs": [
    {
     "data": {
      "text/plain": [
       "{'Breastfeeding Practices',\n",
       " 'Depression',\n",
       " 'Health Care Services',\n",
       " 'Health Insurance Status Postpartum',\n",
       " 'Infant Sleep Practices',\n",
       " 'Intimate Partner Violence (IPV)',\n",
       " 'Oral Health',\n",
       " 'Pre-pregnancy Weight',\n",
       " 'Substance Use'}"
      ]
     },
     "execution_count": 3,
     "metadata": {},
     "output_type": "execute_result"
    }
   ],
   "source": [
    "cat_2012 = set(df_2012['Category'].unique())\n",
    "cat_2016 = set(df_2016['Category'].unique())\n",
    "cat_2012.intersection(cat_2016)"
   ]
  },
  {
   "cell_type": "code",
   "execution_count": 4,
   "id": "34032778",
   "metadata": {},
   "outputs": [
    {
     "data": {
      "text/plain": [
       "{'Health Insurance Status During Pregnancy',\n",
       " 'Nutrition and Exercise',\n",
       " 'Pre-pregnancy Health Insurance Status',\n",
       " 'Pregnancy Intention and Family Planning'}"
      ]
     },
     "execution_count": 4,
     "metadata": {},
     "output_type": "execute_result"
    }
   ],
   "source": [
    "cat_2012.difference(cat_2016)"
   ]
  },
  {
   "cell_type": "code",
   "execution_count": 5,
   "id": "c2fef66e",
   "metadata": {},
   "outputs": [
    {
     "data": {
      "text/plain": [
       "{'Health Insurance Status One Month Before Pregnancy',\n",
       " 'Health Insurance Status for Prenatal Care',\n",
       " 'Nutrition',\n",
       " 'Postpartum Family Planning',\n",
       " 'Pregnancy Intention'}"
      ]
     },
     "execution_count": 5,
     "metadata": {},
     "output_type": "execute_result"
    }
   ],
   "source": [
    "cat_2016.difference(cat_2012)"
   ]
  },
  {
   "cell_type": "markdown",
   "id": "4d006c11",
   "metadata": {},
   "source": [
    "## Indicators"
   ]
  },
  {
   "cell_type": "code",
   "execution_count": 6,
   "id": "2016d285",
   "metadata": {},
   "outputs": [
    {
     "data": {
      "text/plain": [
       "{'Any breastfeeding at 8 weeks',\n",
       " 'Baby most often laid on back to sleep',\n",
       " 'Began prenatal care in 1st trimester',\n",
       " 'Ever breastfed',\n",
       " 'Had maternal postpartum checkup',\n",
       " 'Medicaid',\n",
       " 'No insurance',\n",
       " 'Private insurance',\n",
       " 'Self-reported postpartum depressive symptoms'}"
      ]
     },
     "execution_count": 6,
     "metadata": {},
     "output_type": "execute_result"
    }
   ],
   "source": [
    "ind_2012 = set(df_2012['Indicator'].unique())\n",
    "ind_2016 = set(df_2016['Indicator'].unique())\n",
    "ind_2012.intersection(ind_2016)"
   ]
  },
  {
   "cell_type": "code",
   "execution_count": 7,
   "id": "56588c6a",
   "metadata": {},
   "outputs": [
    {
     "data": {
      "text/plain": [
       "{'Any alcohol use during the 3 months before pregnancy',\n",
       " 'Any alcohol use during the last 3 months of pregnancy',\n",
       " 'Any cigarette smoking during the 3 months before pregnancy',\n",
       " 'Any cigarette smoking during the last 3 months of pregnancy',\n",
       " 'Any cigarette smoking postpartum',\n",
       " 'Dieting during the 12 months before pregnancy',\n",
       " 'Exercising > 3 days a week during the 12 months before pregnancy',\n",
       " 'Experienced IPV during pregnancy',\n",
       " 'Experienced IPV during the 12 months before pregnancy',\n",
       " 'Had dental insurance during pregnancy',\n",
       " 'Had flu shot before or during pregnancy',\n",
       " 'Had home visitor during pregnancy',\n",
       " 'Mistimed/unwanted pregnancy',\n",
       " 'Multivitamin use > 4 days a week during the month before pregnancy',\n",
       " 'Obese (BMI >30)',\n",
       " 'Overweight (BMI 25-29.9)',\n",
       " 'Postpartum contraceptive use',\n",
       " 'Talked to provider about improving health before pregnancy',\n",
       " 'Teeth cleaned during 12 months before pregnancy',\n",
       " 'Teeth cleaned during pregnancy',\n",
       " 'Told by a provider had depression before pregnancy',\n",
       " 'Took childbirth class',\n",
       " 'Underweight (BMI<18.5)',\n",
       " 'Unsure about pregnancy'}"
      ]
     },
     "execution_count": 7,
     "metadata": {},
     "output_type": "execute_result"
    }
   ],
   "source": [
    "ind_2012.difference(ind_2016)"
   ]
  },
  {
   "cell_type": "code",
   "execution_count": 8,
   "id": "00ae5982",
   "metadata": {},
   "outputs": [
    {
     "data": {
      "text/plain": [
       "{'Any cigarette smoking',\n",
       " 'Any e-cigarette use',\n",
       " 'Experienced IPV during pregnancy by a husband or partner and/or an ex-husband or partner',\n",
       " 'Experienced IPV during the 12 months before pregnancy by a husband or partner and/or an ex-husband or partner',\n",
       " 'Had a flu shot in the 12 months before birth',\n",
       " 'Health care visit in the 12 months before pregnancy',\n",
       " 'Heavy drinking (>=8 drinks a week) during the 3 months before pregnancy',\n",
       " 'Highly effective contraceptive methods',\n",
       " 'Hookah use in the last 2 years',\n",
       " 'Intended pregnancy',\n",
       " 'Least effective contraceptive methods',\n",
       " 'Mistimed',\n",
       " 'Moderately effective contraceptive methods',\n",
       " 'Multivitamin use >=4 times a week during the month before pregnancy',\n",
       " 'Obese (BMI>=30 kg/m2)',\n",
       " 'Overweight (BMI 25-29.9 kg/m2)',\n",
       " 'Self-reported depression during pregnancy',\n",
       " 'Self-reported depression in the 3 months before pregnancy',\n",
       " 'Teeth cleaned during pregnancy by a dentist or dental hygienist',\n",
       " 'Underweight (Body Mass Index [BMI]<18.5 kg/m2)',\n",
       " 'Unsure whether wanted pregnancy',\n",
       " 'Unwanted pregnancy',\n",
       " 'Use of any postpartum contraception'}"
      ]
     },
     "execution_count": 8,
     "metadata": {},
     "output_type": "execute_result"
    }
   ],
   "source": [
    "ind_2016.difference(ind_2012)"
   ]
  },
  {
   "cell_type": "code",
   "execution_count": 9,
   "id": "1915798a",
   "metadata": {},
   "outputs": [
    {
     "data": {
      "text/plain": [
       "array([nan, 'During the 3 months before pregnancy',\n",
       "       'During the last 3 months of pregnancy', 'Postpartum',\n",
       "       'Male or female sterilization',\n",
       "       'Long acting reversible contraceptive method'], dtype=object)"
      ]
     },
     "execution_count": 9,
     "metadata": {},
     "output_type": "execute_result"
    }
   ],
   "source": [
    "df_2016['SubIndicator'].unique()"
   ]
  },
  {
   "cell_type": "code",
   "execution_count": null,
   "id": "90ecca09",
   "metadata": {},
   "outputs": [],
   "source": [
    "# TODO: Rename columns that have potential matches\n",
    "# Join data sets\n",
    "# Think about cases where not quite the same description..."
   ]
  }
 ],
 "metadata": {
  "kernelspec": {
   "display_name": "Python 3 (ipykernel)",
   "language": "python",
   "name": "python3"
  },
  "language_info": {
   "codemirror_mode": {
    "name": "ipython",
    "version": 3
   },
   "file_extension": ".py",
   "mimetype": "text/x-python",
   "name": "python",
   "nbconvert_exporter": "python",
   "pygments_lexer": "ipython3",
   "version": "3.9.7"
  }
 },
 "nbformat": 4,
 "nbformat_minor": 5
}
